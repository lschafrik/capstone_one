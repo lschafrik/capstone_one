{
 "cells": [
  {
   "attachments": {
    "Rent_the_Runway_Logo.jpg": {
     "image/jpeg": "[encoded data removed]"
    }
   },
   "cell_type": "markdown",
   "metadata": {},
   "source": [
    "# <center>Analysis of 'Rent the Runway' Users</center>\n",
    "***\n",
    "![Rent_the_Runway_Logo.jpg](attachment:Rent_the_Runway_Logo.jpg)"
   ]
  },
  {
   "cell_type": "markdown",
   "metadata": {},
   "source": [
    "## <center>Overview</center>\n",
    "***\n",
    "### Motivation\n",
    "- I initially chose to work with this data due to its simplicity and easy navigation.  However, after some research into the website and company itself, I found many positive correlations between my own opinions and the company's mission.  Rent the Runway was offically founded in 2009, and now boasts over 9 million members.  According to their site, Rent the Runway was founded in order to bring empowerment and self-confidence to women around the world by providing an unlimited closet with which users can freely express themselves and dress for success.  Rent the Runway's shared closet means greater sustainability - 89% of users buy fewer clothes than they used to, and garments are used to the extent of their lifecycle, after which they may be donated to various organizations.  The company also launched 'Rent the Runway Foundation' in 2015, whose mission is to encourage women in entrepreneurship.\n",
    "\n",
    "### Data\n",
    "- Naturally, I found the initial dataset on Kaggle, which can be found [here](https://www.kaggle.com/rmisra/clothing-fit-dataset-for-size-recommendation).  The dataset includes __146,381__ total entries, with the following columns:\n",
    "    - fit\n",
    "    - user_id\n",
    "    - bust size\n",
    "    - item_id\n",
    "    - weight\n",
    "    - rating\n",
    "    - rented for\n",
    "    - review_text\n",
    "    - body type\n",
    "    - review_summary\n",
    "    - category\n",
    "    - height\n",
    "    - size\n",
    "    - age\n",
    "    - review_date"
   ]
  },
  {
   "cell_type": "markdown",
   "metadata": {},
   "source": [
    "## <center>Exploratory Data Analysis</center>\n",
    "***\n",
    "### NaN values\n",
    "- First, I needed to identify any NaN values and remove them (these values were saved to a separate CSV final for further analysis).\n",
    "\n",
    "### Non-NaN values\n",
    "- Information gathered; percentages, correlation\n",
    "    - age differences\n",
    "    - weight differences\n",
    "    - cost\n",
    "    - apparently another website that offers more size options at 2/3 of the price I did notice on the site that while you can choose your size up to size 24, many clothing options I browsed were not available in sizes higher than around 14"
   ]
  },
  {
   "cell_type": "markdown",
   "metadata": {},
   "source": [
    "## <center>Hypothesis Testing</center>\n",
    "***\n",
    "### Hypothesis\n",
    "- include finding employee whose job is to do something similar, cool find, A/B testing\n",
    "\n",
    "### Reasoning\n",
    "- work through the math\n",
    "\n",
    "### Outcome\n",
    "- solutions and graphs"
   ]
  },
  {
   "cell_type": "markdown",
   "metadata": {},
   "source": [
    "## <center>Conclusion</center>\n",
    "***\n",
    "### Final Paragraph\n",
    "\n",
    "### Thoughts and Future Probable Questions"
   ]
  }
 ],
 "metadata": {
  "kernelspec": {
   "display_name": "Python 3",
   "language": "python",
   "name": "python3"
  },
  "language_info": {
   "codemirror_mode": {
    "name": "ipython",
    "version": 3
   },
   "file_extension": ".py",
   "mimetype": "text/x-python",
   "name": "python",
   "nbconvert_exporter": "python",
   "pygments_lexer": "ipython3",
   "version": "3.7.4"
  }
 },
 "nbformat": 4,
 "nbformat_minor": 2
}
