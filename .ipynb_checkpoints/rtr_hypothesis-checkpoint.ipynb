{
 "cells": [
  {
   "cell_type": "code",
   "execution_count": 1,
   "metadata": {},
   "outputs": [],
   "source": [
    "import pyspark as ps\n",
    "\n",
    "import random\n",
    "import math\n",
    "import pandas as pd\n",
    "import numpy as np\n",
    "import scipy.stats as scs\n",
    "import matplotlib.pyplot as plt\n",
    "import statistics as stats\n",
    "import seaborn as sns; sns.set(style=\"ticks\", color_codes=True)\n",
    "\n",
    "from pyspark.sql.types import *\n",
    "from pyspark.sql.functions import lit\n",
    "from pyspark.sql.functions import udf\n",
    "from pyspark.sql.types import DoubleType, FloatType\n",
    "from pyspark.sql import functions as F\n",
    "\n",
    "%matplotlib inline\n",
    "plt.style.use('ggplot')\n",
    "pd.options.display.float_format = '{:.2f}'.format"
   ]
  },
  {
   "cell_type": "code",
   "execution_count": 2,
   "metadata": {},
   "outputs": [],
   "source": [
    "spark = (ps.sql.SparkSession\n",
    "        .builder\n",
    "        .master('local[4]')\n",
    "        .appName('rtr_hypothesis')\n",
    "        .getOrCreate()\n",
    "        )\n",
    "\n",
    "sc = spark.sparkContext"
   ]
  },
  {
   "cell_type": "markdown",
   "metadata": {},
   "source": [
    "- __The mean weight for total users has increased by 5 lbs from 2011 to 2018.  Rompers and jumpsuits have seen some general popularity in the past couple of years.  Suppose there's an opportunity to cater more towards users of a higher weight in an attempt to boost rentals, but a choice must be made - should a new line of rompers be rolled out, or a new line of jumpsuits?  Which choice is more popular for users of a higher weight?__\n",
    "    - <u>Null Hypothesis:</u> *There is no difference in mean weight between 'romper' and 'jumpsuit' categories rented*\n",
    "    - <u>Alt Hypothesis:</u> *There is a difference in mean weight between 'romper' and 'jumpsuit' categories rented*"
   ]
  },
  {
   "cell_type": "code",
   "execution_count": 3,
   "metadata": {},
   "outputs": [
    {
     "data": {
      "text/html": [
       "<div>\n",
       "<style scoped>\n",
       "    .dataframe tbody tr th:only-of-type {\n",
       "        vertical-align: middle;\n",
       "    }\n",
       "\n",
       "    .dataframe tbody tr th {\n",
       "        vertical-align: top;\n",
       "    }\n",
       "\n",
       "    .dataframe thead th {\n",
       "        text-align: right;\n",
       "    }\n",
       "</style>\n",
       "<table border=\"1\" class=\"dataframe\">\n",
       "  <thead>\n",
       "    <tr style=\"text-align: right;\">\n",
       "      <th></th>\n",
       "      <th>weight_lbs</th>\n",
       "      <th>rating</th>\n",
       "      <th>height_inches</th>\n",
       "      <th>size</th>\n",
       "      <th>age</th>\n",
       "    </tr>\n",
       "  </thead>\n",
       "  <tbody>\n",
       "    <tr>\n",
       "      <th>count</th>\n",
       "      <td>146381.00</td>\n",
       "      <td>146381.00</td>\n",
       "      <td>146381.00</td>\n",
       "      <td>146381.00</td>\n",
       "      <td>146381.00</td>\n",
       "    </tr>\n",
       "    <tr>\n",
       "      <th>mean</th>\n",
       "      <td>137.21</td>\n",
       "      <td>9.08</td>\n",
       "      <td>65.26</td>\n",
       "      <td>11.44</td>\n",
       "      <td>34.09</td>\n",
       "    </tr>\n",
       "    <tr>\n",
       "      <th>std</th>\n",
       "      <td>21.54</td>\n",
       "      <td>1.44</td>\n",
       "      <td>2.66</td>\n",
       "      <td>7.83</td>\n",
       "      <td>8.11</td>\n",
       "    </tr>\n",
       "    <tr>\n",
       "      <th>min</th>\n",
       "      <td>50.00</td>\n",
       "      <td>2.00</td>\n",
       "      <td>54.00</td>\n",
       "      <td>0.00</td>\n",
       "      <td>0.00</td>\n",
       "    </tr>\n",
       "    <tr>\n",
       "      <th>25%</th>\n",
       "      <td>123.00</td>\n",
       "      <td>8.00</td>\n",
       "      <td>63.00</td>\n",
       "      <td>4.00</td>\n",
       "      <td>29.00</td>\n",
       "    </tr>\n",
       "    <tr>\n",
       "      <th>50%</th>\n",
       "      <td>135.00</td>\n",
       "      <td>10.00</td>\n",
       "      <td>65.00</td>\n",
       "      <td>9.00</td>\n",
       "      <td>32.00</td>\n",
       "    </tr>\n",
       "    <tr>\n",
       "      <th>75%</th>\n",
       "      <td>148.00</td>\n",
       "      <td>10.00</td>\n",
       "      <td>67.00</td>\n",
       "      <td>16.00</td>\n",
       "      <td>37.00</td>\n",
       "    </tr>\n",
       "    <tr>\n",
       "      <th>max</th>\n",
       "      <td>300.00</td>\n",
       "      <td>10.00</td>\n",
       "      <td>78.00</td>\n",
       "      <td>58.00</td>\n",
       "      <td>117.00</td>\n",
       "    </tr>\n",
       "  </tbody>\n",
       "</table>\n",
       "</div>"
      ],
      "text/plain": [
       "       weight_lbs    rating  height_inches      size       age\n",
       "count   146381.00 146381.00      146381.00 146381.00 146381.00\n",
       "mean       137.21      9.08          65.26     11.44     34.09\n",
       "std         21.54      1.44           2.66      7.83      8.11\n",
       "min         50.00      2.00          54.00      0.00      0.00\n",
       "25%        123.00      8.00          63.00      4.00     29.00\n",
       "50%        135.00     10.00          65.00      9.00     32.00\n",
       "75%        148.00     10.00          67.00     16.00     37.00\n",
       "max        300.00     10.00          78.00     58.00    117.00"
      ]
     },
     "execution_count": 3,
     "metadata": {},
     "output_type": "execute_result"
    }
   ],
   "source": [
    "rtr_data = pd.read_csv('rtr_data')\n",
    "rtr_data.drop('Unnamed: 0', axis=1, inplace=True)\n",
    "rtr_data.drop(['user_id', 'bust_size', 'item_id', 'review_text', 'review_summary'], axis=1, inplace=True)\n",
    "rtr_data.describe()"
   ]
  },
  {
   "cell_type": "code",
   "execution_count": 4,
   "metadata": {},
   "outputs": [],
   "source": [
    "rtr_spark = spark.createDataFrame(rtr_data)\n",
    "rtr_spark.createOrReplaceTempView('rtr')"
   ]
  },
  {
   "cell_type": "code",
   "execution_count": 5,
   "metadata": {},
   "outputs": [
    {
     "data": {
      "text/plain": [
       "0         137\n",
       "60        125\n",
       "134       140\n",
       "155       132\n",
       "167       140\n",
       "         ... \n",
       "146252    120\n",
       "146255    130\n",
       "146256    115\n",
       "146298    140\n",
       "146362    137\n",
       "Name: weight_lbs, Length: 2447, dtype: int64"
      ]
     },
     "execution_count": 5,
     "metadata": {},
     "output_type": "execute_result"
    }
   ],
   "source": [
    "rtr_romper = rtr_data[(rtr_data['category']=='romper')]['weight_lbs']\n",
    "rtr_romper"
   ]
  },
  {
   "cell_type": "code",
   "execution_count": 6,
   "metadata": {},
   "outputs": [
    {
     "data": {
      "text/plain": [
       "count   2447.00\n",
       "mean     132.82\n",
       "std       18.00\n",
       "min       90.00\n",
       "25%      120.00\n",
       "50%      130.00\n",
       "75%      142.00\n",
       "max      236.00\n",
       "Name: weight_lbs, dtype: float64"
      ]
     },
     "execution_count": 6,
     "metadata": {},
     "output_type": "execute_result"
    }
   ],
   "source": [
    "rtr_romper.describe()"
   ]
  },
  {
   "cell_type": "code",
   "execution_count": 7,
   "metadata": {},
   "outputs": [],
   "source": [
    "rtr_jumpsuit = rtr_data[(rtr_data['category']=='jumpsuit')]['weight_lbs']"
   ]
  },
  {
   "cell_type": "code",
   "execution_count": 8,
   "metadata": {},
   "outputs": [
    {
     "data": {
      "text/plain": [
       "40        145\n",
       "118       115\n",
       "221       135\n",
       "228       127\n",
       "231       115\n",
       "         ... \n",
       "146229    118\n",
       "146280    135\n",
       "146293    142\n",
       "146317    133\n",
       "146376    140\n",
       "Name: weight_lbs, Length: 4019, dtype: int64"
      ]
     },
     "execution_count": 8,
     "metadata": {},
     "output_type": "execute_result"
    }
   ],
   "source": [
    "rtr_jumpsuit"
   ]
  },
  {
   "cell_type": "code",
   "execution_count": 9,
   "metadata": {},
   "outputs": [
    {
     "data": {
      "text/plain": [
       "count   4019.00\n",
       "mean     135.32\n",
       "std       18.60\n",
       "min       50.00\n",
       "25%      124.00\n",
       "50%      134.00\n",
       "75%      145.00\n",
       "max      250.00\n",
       "Name: weight_lbs, dtype: float64"
      ]
     },
     "execution_count": 9,
     "metadata": {},
     "output_type": "execute_result"
    }
   ],
   "source": [
    "rtr_jumpsuit.describe()"
   ]
  },
  {
   "cell_type": "code",
   "execution_count": 10,
   "metadata": {},
   "outputs": [
    {
     "name": "stdout",
     "output_type": "stream",
     "text": [
      "132.8169186759297 2447 18.00120350713135\n",
      "135.319233640209 4019 18.601285456041094\n"
     ]
    }
   ],
   "source": [
    "romper_wt_mean = rtr_romper.mean()\n",
    "romper_count = len(rtr_romper)\n",
    "romper_std_dev = stats.stdev(rtr_romper)\n",
    "print(romper_wt_mean, romper_count, romper_std_dev)\n",
    "\n",
    "jumpsuit_wt_mean = rtr_jumpsuit.mean()\n",
    "jumpsuit_count = len(rtr_jumpsuit)\n",
    "jumpsuit_std_dev = stats.stdev(rtr_jumpsuit)\n",
    "print(jumpsuit_wt_mean, jumpsuit_count, jumpsuit_std_dev)\n",
    "\n",
    "# combined mean and std dev"
   ]
  },
  {
   "cell_type": "code",
   "execution_count": 11,
   "metadata": {},
   "outputs": [
    {
     "data": {
      "text/plain": [
       "2.502314964279293"
      ]
     },
     "execution_count": 11,
     "metadata": {},
     "output_type": "execute_result"
    }
   ],
   "source": [
    "diff_mean = jumpsuit_wt_mean - romper_wt_mean\n",
    "diff_mean"
   ]
  },
  {
   "cell_type": "code",
   "execution_count": 12,
   "metadata": {},
   "outputs": [
    {
     "data": {
      "text/plain": [
       "0.46745882044841836"
      ]
     },
     "execution_count": 12,
     "metadata": {},
     "output_type": "execute_result"
    }
   ],
   "source": [
    "std_error = np.sqrt((jumpsuit_std_dev**2/jumpsuit_count)+(romper_std_dev**2/romper_count))\n",
    "std_error\n",
    "# np.var instead of std dev ^ 2"
   ]
  },
  {
   "cell_type": "code",
   "execution_count": 13,
   "metadata": {},
   "outputs": [
    {
     "data": {
      "text/plain": [
       "5.353016896502032"
      ]
     },
     "execution_count": 13,
     "metadata": {},
     "output_type": "execute_result"
    }
   ],
   "source": [
    "t_test = diff_mean/std_error #diffmean-20 to find prob of 20 lbs apart #diffmean-20 to find prob of 20 lbs apart\n",
    "t_test # measures how likely this dist is; closer to 0 = high prob"
   ]
  },
  {
   "cell_type": "code",
   "execution_count": 14,
   "metadata": {},
   "outputs": [],
   "source": [
    "def welch_satterhwaithe_df(sample_1, sample_2):\n",
    "    ss1 = len(sample_1)\n",
    "    ss2 = len(sample_2)\n",
    "    df = (\n",
    "        ((np.var(sample_1)/ss1 + np.var(sample_2)/ss2)**(2.0)) / \n",
    "        ((np.var(sample_1)/ss1)**(2.0)/(ss1 - 1) + (np.var(sample_2)/ss2)**(2.0)/(ss2 - 1))\n",
    "    )\n",
    "    return df"
   ]
  },
  {
   "cell_type": "code",
   "execution_count": 15,
   "metadata": {},
   "outputs": [
    {
     "data": {
      "text/plain": [
       "5297.58770293491"
      ]
     },
     "execution_count": 15,
     "metadata": {},
     "output_type": "execute_result"
    }
   ],
   "source": [
    "rtr_df = welch_satterhwaithe_df(rtr_jumpsuit, rtr_romper)\n",
    "rtr_df"
   ]
  },
  {
   "cell_type": "code",
   "execution_count": 16,
   "metadata": {},
   "outputs": [],
   "source": [
    "idk = scs.t(rtr_df) # making t dist based on # degrees freedom # norm dist; wider w less obsrvtions"
   ]
  },
  {
   "cell_type": "code",
   "execution_count": 17,
   "metadata": {},
   "outputs": [
    {
     "data": {
      "text/plain": [
       "'0.00000009'"
      ]
     },
     "execution_count": 17,
     "metadata": {},
     "output_type": "execute_result"
    }
   ],
   "source": [
    "p_val = idk.cdf(-t_test) + (1-idk.cdf(t_test)) # solve for 1.96 instead of t_test to see the 95%\n",
    "'{:.8f}'.format(p_val) # would like .05 to see whether to accept/reject null {:.2f}"
   ]
  },
  {
   "cell_type": "markdown",
   "metadata": {},
   "source": [
    "- We would reject the null hypothesis; after some inferences, it looks like we'd make the 0.05 threshold if we subtracted approx. 0.25 or higher from the diff_mean during the t-test calculation.  So the two category mean weights *are* different... barely.  I would suggest rolling out a line of jumpsuits if the goal is to cater to users with higher weights.  Lauren OUT (•_•) ( •_•)>⌐■-■ (⌐■_■)"
   ]
  },
  {
   "cell_type": "code",
   "execution_count": 18,
   "metadata": {},
   "outputs": [
    {
     "data": {
      "text/plain": [
       "<matplotlib.lines.Line2D at 0x7fa1ba7ba3c8>"
      ]
     },
     "execution_count": 18,
     "metadata": {},
     "output_type": "execute_result"
    },
    {
     "data": {
      "image/png": "[encoded data removed]",
      "text/plain": [
       "<Figure size 864x432 with 1 Axes>"
      ]
     },
     "metadata": {},
     "output_type": "display_data"
    }
   ],
   "source": [
    "fig, ax = plt.subplots(figsize=(12,6))\n",
    "\n",
    "x = np.linspace(-6,6,num=250)\n",
    "idk = scs.t(rtr_df) # making t dist based on # degrees freedom # norm dist; wider w less obsrvtions\n",
    "ax.plot(x, idk.pdf(x))\n",
    "ax.axvline(x=t_test, color='black', linestyle='dashed', label='t-test value')\n",
    "ax.axvline(x=-t_test, color='black', linestyle='dashed')\n",
    "# ax.fill_between(x, idk.pdf(x), where=(x >= 1.96), color=\"red\", alpha=0.25)\n",
    "# ax.fill_between(x, idk.pdf(x), where=(x <= -1.96), color=\"red\", alpha=0.25)\n",
    "# this is normalizing everything for 0 mean"
   ]
  },
  {
   "cell_type": "code",
   "execution_count": 19,
   "metadata": {},
   "outputs": [],
   "source": [
    "from scipy.stats import norm"
   ]
  },
  {
   "cell_type": "code",
   "execution_count": 20,
   "metadata": {},
   "outputs": [
    {
     "data": {
      "text/plain": [
       "0.0"
      ]
     },
     "execution_count": 20,
     "metadata": {},
     "output_type": "execute_result"
    }
   ],
   "source": [
    "norm.mean()"
   ]
  },
  {
   "cell_type": "code",
   "execution_count": 21,
   "metadata": {},
   "outputs": [
    {
     "data": {
      "text/plain": [
       "1.0"
      ]
     },
     "execution_count": 21,
     "metadata": {},
     "output_type": "execute_result"
    }
   ],
   "source": [
    "norm.std()"
   ]
  },
  {
   "cell_type": "code",
   "execution_count": 22,
   "metadata": {},
   "outputs": [],
   "source": [
    "a = norm.rvs(size=10000)"
   ]
  },
  {
   "cell_type": "code",
   "execution_count": 23,
   "metadata": {},
   "outputs": [
    {
     "data": {
      "text/plain": [
       "0.1538"
      ]
     },
     "execution_count": 23,
     "metadata": {},
     "output_type": "execute_result"
    }
   ],
   "source": [
    "len(a[a>1])/len(a)"
   ]
  },
  {
   "cell_type": "code",
   "execution_count": 24,
   "metadata": {},
   "outputs": [
    {
     "data": {
      "text/plain": [
       "1.967508497775606"
      ]
     },
     "execution_count": 24,
     "metadata": {},
     "output_type": "execute_result"
    }
   ],
   "source": [
    "t_test_test = diff_mean-.25/std_error\n",
    "t_test_test"
   ]
  },
  {
   "cell_type": "code",
   "execution_count": 25,
   "metadata": {},
   "outputs": [
    {
     "data": {
      "text/plain": [
       "0.04917671040577591"
      ]
     },
     "execution_count": 25,
     "metadata": {},
     "output_type": "execute_result"
    }
   ],
   "source": [
    "p_val_test = idk.cdf(-t_test_test) + (1-idk.cdf(t_test_test))\n",
    "p_val_test"
   ]
  },
  {
   "cell_type": "code",
   "execution_count": 26,
   "metadata": {},
   "outputs": [
    {
     "data": {
      "text/plain": [
       "<matplotlib.axes._subplots.AxesSubplot at 0x7fa1bba2c1d0>"
      ]
     },
     "execution_count": 26,
     "metadata": {},
     "output_type": "execute_result"
    },
    {
     "data": {
      "image/png": "[encoded data removed]",
      "text/plain": [
       "<Figure size 432x288 with 1 Axes>"
      ]
     },
     "metadata": {},
     "output_type": "display_data"
    }
   ],
   "source": [
    "rtr_jumpsuit.hist()"
   ]
  },
  {
   "cell_type": "code",
   "execution_count": 27,
   "metadata": {},
   "outputs": [
    {
     "data": {
      "text/plain": [
       "<matplotlib.axes._subplots.AxesSubplot at 0x7fa1b8fc6cf8>"
      ]
     },
     "execution_count": 27,
     "metadata": {},
     "output_type": "execute_result"
    },
    {
     "data": {
      "image/png": "[encoded data removed]",
      "text/plain": [
       "<Figure size 432x288 with 1 Axes>"
      ]
     },
     "metadata": {},
     "output_type": "display_data"
    }
   ],
   "source": [
    "rtr_romper.hist()"
   ]
  },
  {
   "cell_type": "code",
   "execution_count": 29,
   "metadata": {},
   "outputs": [
    {
     "data": {
      "text/plain": [
       "(75, 225)"
      ]
     },
     "execution_count": 29,
     "metadata": {},
     "output_type": "execute_result"
    },
    {
     "data": {
      "image/png": "[encoded data removed]",
      "text/plain": [
       "<Figure size 1080x432 with 2 Axes>"
      ]
     },
     "metadata": {},
     "output_type": "display_data"
    }
   ],
   "source": [
    "fig, ax = plt.subplots(1, 2, figsize=(15,6))\n",
    "\n",
    "ax[0].hist(rtr_jumpsuit, color='crimson', bins=20)\n",
    "ax[0].set_title('Jumpsuit')\n",
    "ax[0].set_xlabel('Weight(lbs)')\n",
    "ax[0].set_ylabel('Count')\n",
    "ax[0].set_xlim(75,225)\n",
    "ax[1].hist(rtr_romper, color='maroon', bins=20)\n",
    "ax[1].set_title('Romper')\n",
    "ax[1].set_xlabel('Weight(lbs)')\n",
    "ax[1].set_ylabel('Count')\n",
    "ax[1].set_xlim(75,225)"
   ]
  },
  {
   "cell_type": "markdown",
   "metadata": {},
   "source": [
    "$$ \\text{Difference in sample frequencies between Matt and Nick} \\approx \\nor \\biggl( 0, \\sqrt{\\frac{p(1-p)}{100} + \\frac{p(1-p)}{80}} \\biggr) = \\nor \\biggl( 0, \\sqrt{\\frac{180 p(1 - p)}{8000}} \\biggr) $$"
   ]
  },
  {
   "cell_type": "markdown",
   "metadata": {},
   "source": [
    "$$ \\text{Z-Test Formula} = \\frac{135.32-132.82}{\\sqrt{\\frac{18.6^2}{4019}+\\frac{18.0^2}{2447}}} $$"
   ]
  },
  {
   "cell_type": "code",
   "execution_count": null,
   "metadata": {},
   "outputs": [],
   "source": []
  }
 ],
 "metadata": {
  "kernelspec": {
   "display_name": "Python 3",
   "language": "python",
   "name": "python3"
  },
  "language_info": {
   "codemirror_mode": {
    "name": "ipython",
    "version": 3
   },
   "file_extension": ".py",
   "mimetype": "text/x-python",
   "name": "python",
   "nbconvert_exporter": "python",
   "pygments_lexer": "ipython3",
   "version": "3.7.4"
  }
 },
 "nbformat": 4,
 "nbformat_minor": 4
}
