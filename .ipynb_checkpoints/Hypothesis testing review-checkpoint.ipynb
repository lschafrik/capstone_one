{
 "cells": [
  {
   "cell_type": "code",
   "execution_count": 1,
   "metadata": {},
   "outputs": [],
   "source": [
    "%matplotlib inline\n",
    "\n",
    "import numpy as np\n",
    "import scipy as sp\n",
    "import scipy.stats as stats\n",
    "import matplotlib.pyplot as plt"
   ]
  },
  {
   "cell_type": "code",
   "execution_count": 11,
   "metadata": {},
   "outputs": [],
   "source": [
    "shared_sample_freq = (200.0 + 100.0) / 1000\n",
    "shared_sample_variance = 1000 * (shared_sample_freq * (1 - shared_sample_freq)) / 20000\n",
    "\n",
    "difference_in_proportions = stats.norm(0, np.sqrt(shared_sample_variance))"
   ]
  },
  {
   "cell_type": "code",
   "execution_count": 12,
   "metadata": {},
   "outputs": [
    {
     "name": "stdout",
     "output_type": "stream",
     "text": [
      "Difference in sample proportions: 0.10\n"
     ]
    }
   ],
   "source": [
    "death_firearms_pct = 200/1000\n",
    "deaths_suffocation_pct = 100/1000\n",
    "difference_in_sample_proportions = death_firearms_pct - deaths_suffocation_pct\n",
    "print(\"Difference in sample proportions: {:2.2f}\".format(difference_in_sample_proportions))"
   ]
  },
  {
   "cell_type": "code",
   "execution_count": 13,
   "metadata": {},
   "outputs": [
    {
     "name": "stdout",
     "output_type": "stream",
     "text": [
      "p-value for kickfip frequency comparison: 0.16\n"
     ]
    }
   ],
   "source": [
    "p_value = 1 - difference_in_proportions.cdf(difference_in_sample_proportions)\n",
    "print(\"p-value for kickfip frequency comparison: {:2.2f}\".format(p_value))"
   ]
  },
  {
   "cell_type": "code",
   "execution_count": null,
   "metadata": {},
   "outputs": [],
   "source": []
  },
  {
   "cell_type": "code",
   "execution_count": 17,
   "metadata": {},
   "outputs": [
    {
     "name": "stdout",
     "output_type": "stream",
     "text": [
      "Difference in sample means: 1000000.00\n"
     ]
    }
   ],
   "source": [
    "horror_genre_mean_revenue = 2000000\n",
    "romcom_genre_mean_revenue = 1000000\n",
    "horror_standard_deviation = 50000\n",
    "romcom_standard_deviation = 60000\n",
    "horror_samples = 1500\n",
    "romcom_samples = 2000\n",
    "difference_in_sample_means = horror_genre_mean_revenue - romcom_genre_mean_revenue\n",
    "print(\"Difference in sample means: {:2.2f}\".format(difference_in_sample_means))"
   ]
  },
  {
   "cell_type": "markdown",
   "metadata": {},
   "source": [
    "null is they are the same <br>\n",
    "alternative is they are different <br>\n",
    "need standard error"
   ]
  },
  {
   "cell_type": "code",
   "execution_count": 20,
   "metadata": {},
   "outputs": [
    {
     "data": {
      "text/plain": [
       "1861.8986725025256"
      ]
     },
     "execution_count": 20,
     "metadata": {},
     "output_type": "execute_result"
    }
   ],
   "source": [
    "sample_standard_error = np.sqrt((horror_standard_deviation**2/horror_samples)+(romcom_standard_deviation**2/romcom_samples))\n",
    "sample_standard_error"
   ]
  },
  {
   "cell_type": "code",
   "execution_count": 24,
   "metadata": {},
   "outputs": [
    {
     "data": {
      "text/plain": [
       "429.6689244236597"
      ]
     },
     "execution_count": 24,
     "metadata": {},
     "output_type": "execute_result"
    }
   ],
   "source": [
    "t_statistic = ((horror_genre_mean_revenue - romcom_genre_mean_revenue)-200000)/sample_standard_error\n",
    "t_statistic"
   ]
  },
  {
   "cell_type": "code",
   "execution_count": 22,
   "metadata": {},
   "outputs": [],
   "source": [
    "numerator = (horror_standard_deviation**2/horror_samples)+(romcom_standard_deviation**2/romcom_samples)**2\n",
    "denominator = ((horror_standard_deviation**2/horror_samples)**2/(horror_samples-1))+((romcom_standard_deviation**2/romcom_samples)**2/(romcom_samples-1))"
   ]
  },
  {
   "cell_type": "code",
   "execution_count": 23,
   "metadata": {},
   "outputs": [
    {
     "data": {
      "text/plain": [
       "932.6704452616851"
      ]
     },
     "execution_count": 23,
     "metadata": {},
     "output_type": "execute_result"
    }
   ],
   "source": [
    "numerator/denominator"
   ]
  },
  {
   "cell_type": "code",
   "execution_count": null,
   "metadata": {},
   "outputs": [],
   "source": []
  }
 ],
 "metadata": {
  "kernelspec": {
   "display_name": "Python 3",
   "language": "python",
   "name": "python3"
  },
  "language_info": {
   "codemirror_mode": {
    "name": "ipython",
    "version": 3
   },
   "file_extension": ".py",
   "mimetype": "text/x-python",
   "name": "python",
   "nbconvert_exporter": "python",
   "pygments_lexer": "ipython3",
   "version": "3.7.4"
  }
 },
 "nbformat": 4,
 "nbformat_minor": 2
}
